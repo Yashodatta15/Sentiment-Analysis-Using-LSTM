{
 "cells": [
  {
   "cell_type": "code",
   "execution_count": 1,
   "id": "3a54aa4f",
   "metadata": {},
   "outputs": [],
   "source": [
    "import pandas as pd\n",
    "import numpy as np\n",
    "from tensorflow.keras.preprocessing.text import Tokenizer\n",
    "from tensorflow.keras.preprocessing.sequence import pad_sequences\n",
    "from tensorflow.keras.models import Sequential\n",
    "from tensorflow.keras.layers import Embedding, LSTM, Dense, Dropout"
   ]
  },
  {
   "cell_type": "code",
   "execution_count": 2,
   "id": "e35ec674",
   "metadata": {},
   "outputs": [],
   "source": [
    "data = pd.read_csv(r\"Sentiment.csv\",usecols=['text', 'sentiment'])"
   ]
  },
  {
   "cell_type": "code",
   "execution_count": 3,
   "id": "620dc451",
   "metadata": {},
   "outputs": [
    {
     "data": {
      "text/html": [
       "<div>\n",
       "<style scoped>\n",
       "    .dataframe tbody tr th:only-of-type {\n",
       "        vertical-align: middle;\n",
       "    }\n",
       "\n",
       "    .dataframe tbody tr th {\n",
       "        vertical-align: top;\n",
       "    }\n",
       "\n",
       "    .dataframe thead th {\n",
       "        text-align: right;\n",
       "    }\n",
       "</style>\n",
       "<table border=\"1\" class=\"dataframe\">\n",
       "  <thead>\n",
       "    <tr style=\"text-align: right;\">\n",
       "      <th></th>\n",
       "      <th>sentiment</th>\n",
       "      <th>text</th>\n",
       "    </tr>\n",
       "  </thead>\n",
       "  <tbody>\n",
       "    <tr>\n",
       "      <th>0</th>\n",
       "      <td>Neutral</td>\n",
       "      <td>RT @NancyLeeGrahn: How did everyone feel about...</td>\n",
       "    </tr>\n",
       "    <tr>\n",
       "      <th>1</th>\n",
       "      <td>Positive</td>\n",
       "      <td>RT @ScottWalker: Didn't catch the full #GOPdeb...</td>\n",
       "    </tr>\n",
       "    <tr>\n",
       "      <th>2</th>\n",
       "      <td>Neutral</td>\n",
       "      <td>RT @TJMShow: No mention of Tamir Rice and the ...</td>\n",
       "    </tr>\n",
       "    <tr>\n",
       "      <th>3</th>\n",
       "      <td>Positive</td>\n",
       "      <td>RT @RobGeorge: That Carly Fiorina is trending ...</td>\n",
       "    </tr>\n",
       "    <tr>\n",
       "      <th>4</th>\n",
       "      <td>Positive</td>\n",
       "      <td>RT @DanScavino: #GOPDebate w/ @realDonaldTrump...</td>\n",
       "    </tr>\n",
       "  </tbody>\n",
       "</table>\n",
       "</div>"
      ],
      "text/plain": [
       "  sentiment                                               text\n",
       "0   Neutral  RT @NancyLeeGrahn: How did everyone feel about...\n",
       "1  Positive  RT @ScottWalker: Didn't catch the full #GOPdeb...\n",
       "2   Neutral  RT @TJMShow: No mention of Tamir Rice and the ...\n",
       "3  Positive  RT @RobGeorge: That Carly Fiorina is trending ...\n",
       "4  Positive  RT @DanScavino: #GOPDebate w/ @realDonaldTrump..."
      ]
     },
     "execution_count": 3,
     "metadata": {},
     "output_type": "execute_result"
    }
   ],
   "source": [
    "data.head()"
   ]
  },
  {
   "cell_type": "code",
   "execution_count": 4,
   "id": "621be6d1",
   "metadata": {},
   "outputs": [],
   "source": [
    "data = data[data['sentiment'].isin(['Positive','Negative'])]"
   ]
  },
  {
   "cell_type": "code",
   "execution_count": 5,
   "id": "899aa90b",
   "metadata": {},
   "outputs": [
    {
     "name": "stdout",
     "output_type": "stream",
     "text": [
      "Negative    8493\n",
      "Positive    2236\n",
      "Name: sentiment, dtype: int64\n"
     ]
    }
   ],
   "source": [
    "sentiment_count = data['sentiment'].value_counts()\n",
    "print(sentiment_count)"
   ]
  },
  {
   "cell_type": "code",
   "execution_count": 6,
   "id": "b5711f4f",
   "metadata": {},
   "outputs": [],
   "source": [
    "# preprocess text data\n",
    "tokenizer = Tokenizer(num_words=5000)\n",
    "tokenizer.fit_on_texts(data['text'])"
   ]
  },
  {
   "cell_type": "code",
   "execution_count": 7,
   "id": "39b3c8c2",
   "metadata": {},
   "outputs": [],
   "source": [
    "X = tokenizer.texts_to_sequences(data['text'])\n",
    "X = pad_sequences(X, maxlen=100)"
   ]
  },
  {
   "cell_type": "code",
   "execution_count": 8,
   "id": "2fb15f82",
   "metadata": {},
   "outputs": [],
   "source": [
    "# convert sentiment to numeric labels\n",
    "y = data['sentiment'].map({'Positive': 1, 'Negative': 0}).values"
   ]
  },
  {
   "cell_type": "code",
   "execution_count": 9,
   "id": "c3278568",
   "metadata": {},
   "outputs": [],
   "source": [
    "# split data into train and test sets\n",
    "from sklearn.model_selection import train_test_split\n",
    "\n",
    "X_train, X_test, y_train, y_test = train_test_split(X, y, test_size=0.2, random_state=42)"
   ]
  },
  {
   "cell_type": "code",
   "execution_count": 10,
   "id": "d7a6593b",
   "metadata": {},
   "outputs": [],
   "source": [
    "# build LSTM model\n",
    "model = Sequential([\n",
    "    Embedding(5000, 32, input_length=100),\n",
    "    LSTM(64, dropout=0.2),\n",
    "    Dense(1, activation='sigmoid')\n",
    "])\n",
    "\n",
    "model.compile(loss='binary_crossentropy', optimizer='adam', metrics=['accuracy'])"
   ]
  },
  {
   "cell_type": "code",
   "execution_count": 11,
   "id": "7c67593e",
   "metadata": {},
   "outputs": [
    {
     "name": "stdout",
     "output_type": "stream",
     "text": [
      "Epoch 1/10\n",
      "215/215 [==============================] - 10s 40ms/step - loss: 0.4540 - accuracy: 0.8123 - val_loss: 0.4167 - val_accuracy: 0.8422\n",
      "Epoch 2/10\n",
      "215/215 [==============================] - 9s 42ms/step - loss: 0.3013 - accuracy: 0.8739 - val_loss: 0.3472 - val_accuracy: 0.8596\n",
      "Epoch 3/10\n",
      "215/215 [==============================] - 8s 39ms/step - loss: 0.2340 - accuracy: 0.9064 - val_loss: 0.3744 - val_accuracy: 0.8457\n",
      "Epoch 4/10\n",
      "215/215 [==============================] - 10s 46ms/step - loss: 0.1971 - accuracy: 0.9246 - val_loss: 0.3919 - val_accuracy: 0.8573\n",
      "Epoch 5/10\n",
      "215/215 [==============================] - 10s 46ms/step - loss: 0.1663 - accuracy: 0.9339 - val_loss: 0.4209 - val_accuracy: 0.8561\n",
      "Epoch 6/10\n",
      "215/215 [==============================] - 9s 41ms/step - loss: 0.1474 - accuracy: 0.9407 - val_loss: 0.4348 - val_accuracy: 0.8497\n",
      "Epoch 7/10\n",
      "215/215 [==============================] - 9s 42ms/step - loss: 0.1273 - accuracy: 0.9509 - val_loss: 0.4684 - val_accuracy: 0.8387\n",
      "Epoch 8/10\n",
      "215/215 [==============================] - 9s 42ms/step - loss: 0.1184 - accuracy: 0.9522 - val_loss: 0.5405 - val_accuracy: 0.8410\n",
      "Epoch 9/10\n",
      "215/215 [==============================] - 9s 41ms/step - loss: 0.1078 - accuracy: 0.9565 - val_loss: 0.4990 - val_accuracy: 0.8398\n",
      "Epoch 10/10\n",
      "215/215 [==============================] - 9s 42ms/step - loss: 0.0968 - accuracy: 0.9623 - val_loss: 0.5582 - val_accuracy: 0.8416\n"
     ]
    }
   ],
   "source": [
    "# train model\n",
    "history = model.fit(X_train, y_train, validation_split=0.2, epochs=10,batch_size=32)"
   ]
  },
  {
   "cell_type": "code",
   "execution_count": 12,
   "id": "33cd2e32",
   "metadata": {},
   "outputs": [
    {
     "name": "stdout",
     "output_type": "stream",
     "text": [
      "336/336 [==============================] - 4s 12ms/step\n"
     ]
    },
    {
     "data": {
      "text/plain": [
       "array([[9.9365479e-01],\n",
       "       [3.2152265e-01],\n",
       "       [9.9968946e-01],\n",
       "       ...,\n",
       "       [9.9466336e-01],\n",
       "       [7.2232023e-04],\n",
       "       [9.9974054e-01]], dtype=float32)"
      ]
     },
     "execution_count": 12,
     "metadata": {},
     "output_type": "execute_result"
    }
   ],
   "source": [
    "pred = model.predict(X)\n",
    "pred"
   ]
  },
  {
   "cell_type": "code",
   "execution_count": 13,
   "id": "f9de567e",
   "metadata": {},
   "outputs": [
    {
     "data": {
      "text/plain": [
       "array([0, 0, 0, ..., 0, 0, 0], dtype=int64)"
      ]
     },
     "execution_count": 13,
     "metadata": {},
     "output_type": "execute_result"
    }
   ],
   "source": [
    "pred_mess = np.argmax(pred , axis=1)\n",
    "pred_mess"
   ]
  },
  {
   "cell_type": "code",
   "execution_count": 14,
   "id": "f3ea3a00",
   "metadata": {},
   "outputs": [],
   "source": [
    "from sklearn.metrics import confusion_matrix  ,accuracy_score"
   ]
  },
  {
   "cell_type": "code",
   "execution_count": 15,
   "id": "c7a95e9e",
   "metadata": {},
   "outputs": [
    {
     "data": {
      "text/plain": [
       "array([[8493,    0],\n",
       "       [2236,    0]], dtype=int64)"
      ]
     },
     "execution_count": 15,
     "metadata": {},
     "output_type": "execute_result"
    }
   ],
   "source": [
    "confusion_matrix(y , pred_mess)"
   ]
  },
  {
   "cell_type": "code",
   "execution_count": 16,
   "id": "7089a486",
   "metadata": {},
   "outputs": [
    {
     "data": {
      "text/plain": [
       "79.15928791126852"
      ]
     },
     "execution_count": 16,
     "metadata": {},
     "output_type": "execute_result"
    }
   ],
   "source": [
    "accuracy_score(y , pred_mess) *100"
   ]
  },
  {
   "cell_type": "code",
   "execution_count": 17,
   "id": "b326637a",
   "metadata": {},
   "outputs": [
    {
     "name": "stdout",
     "output_type": "stream",
     "text": [
      "1/1 [==============================] - 0s 24ms/step\n",
      "'He is a great leader.' = is predicted to be positive.\n",
      "'He is a terrible leader.' = is predicted to be negative.\n"
     ]
    }
   ],
   "source": [
    "sentences = ['He is a great leader.', 'He is a terrible leader.']\n",
    "\n",
    "# preprocess sentences\n",
    "X_new = tokenizer.texts_to_sequences(sentences)\n",
    "X_new = pad_sequences(X_new, maxlen=100)\n",
    "\n",
    "# predict sentiment\n",
    "y_new = model.predict(X_new)\n",
    "\n",
    "# print predicted sentiment\n",
    "for i in range(len(sentences)):\n",
    "    if y_new[i] > 0.5:\n",
    "        print(f\"'{sentences[i]}' = is predicted to be positive.\")\n",
    "    else:\n",
    "        print(f\"'{sentences[i]}' = is predicted to be negative.\")"
   ]
  },
  {
   "cell_type": "code",
   "execution_count": null,
   "id": "f5e4b188",
   "metadata": {},
   "outputs": [],
   "source": []
  },
  {
   "cell_type": "code",
   "execution_count": null,
   "id": "75dc7de7",
   "metadata": {},
   "outputs": [],
   "source": []
  },
  {
   "cell_type": "code",
   "execution_count": null,
   "id": "a7b6c60e",
   "metadata": {},
   "outputs": [],
   "source": []
  },
  {
   "cell_type": "code",
   "execution_count": null,
   "id": "d0f2b8fc",
   "metadata": {},
   "outputs": [],
   "source": []
  },
  {
   "cell_type": "code",
   "execution_count": null,
   "id": "1a3988d5",
   "metadata": {},
   "outputs": [],
   "source": []
  },
  {
   "cell_type": "code",
   "execution_count": null,
   "id": "791e2386",
   "metadata": {},
   "outputs": [],
   "source": []
  }
 ],
 "metadata": {
  "kernelspec": {
   "display_name": "Python 3 (ipykernel)",
   "language": "python",
   "name": "python3"
  },
  "language_info": {
   "codemirror_mode": {
    "name": "ipython",
    "version": 3
   },
   "file_extension": ".py",
   "mimetype": "text/x-python",
   "name": "python",
   "nbconvert_exporter": "python",
   "pygments_lexer": "ipython3",
   "version": "3.9.13"
  }
 },
 "nbformat": 4,
 "nbformat_minor": 5
}
